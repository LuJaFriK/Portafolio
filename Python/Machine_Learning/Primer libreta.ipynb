{
 "cells": [
  {
   "cell_type": "code",
   "execution_count": null,
   "id": "7486b341",
   "metadata": {},
   "outputs": [
    {
     "ename": "",
     "evalue": "",
     "output_type": "error",
     "traceback": [
      "\u001b[1;31mRunning cells with 'Python 3.11.2' requires the ipykernel package.\n",
      "\u001b[1;31m<a href='command:jupyter.createPythonEnvAndSelectController'>Create a Python Environment</a> with the required packages.\n",
      "\u001b[1;31mOr install 'ipykernel' using the command: '/bin/python3 -m pip install ipykernel -U --user --force-reinstall'"
     ]
    }
   ],
   "source": [
    "import pandas as pd\n",
    "datos = pd.read_csv(\"celsius.csv\")\n",
    "datos.info()\n",
    "datos.head()"
   ]
  },
  {
   "cell_type": "code",
   "execution_count": null,
   "id": "11bab3eb",
   "metadata": {},
   "outputs": [],
   "source": [
    "import seaborn as sb\n",
    "sb.scatterplot(x=\"celsius\", y=\"fahrenheit\", data=datos, hue=\"celsius\", palette=\"coolwarm\")"
   ]
  },
  {
   "cell_type": "code",
   "execution_count": null,
   "id": "c85387e1",
   "metadata": {},
   "outputs": [],
   "source": [
    "#Caracteristicas (X), etiqueta(y)\n",
    "X = datos[\"celsius\"]\n",
    "y = datos[\"fahrenheit\"]"
   ]
  },
  {
   "cell_type": "code",
   "execution_count": null,
   "id": "a17c5f4b",
   "metadata": {},
   "outputs": [],
   "source": [
    "X_procesada = X.values.reshape(-1,1)\n",
    "y_procesada = y.values.reshape(-1,1)"
   ]
  },
  {
   "cell_type": "code",
   "execution_count": null,
   "id": "4f1dc516",
   "metadata": {},
   "outputs": [],
   "source": [
    "from sklearn.linear_model import LinearRegression\n",
    "\n",
    "modelo = LinearRegression()\n"
   ]
  },
  {
   "cell_type": "code",
   "execution_count": null,
   "id": "c21468e5",
   "metadata": {},
   "outputs": [],
   "source": [
    "# Entrenamiento\n",
    "modelo.fit(X_procesada,y_procesada)"
   ]
  },
  {
   "cell_type": "code",
   "execution_count": null,
   "id": "0b4a07a6",
   "metadata": {},
   "outputs": [],
   "source": [
    "modelo.predict([[123]])"
   ]
  }
 ],
 "metadata": {
  "kernelspec": {
   "display_name": "Python 3",
   "language": "python",
   "name": "python3"
  },
  "language_info": {
   "codemirror_mode": {
    "name": "ipython",
    "version": 3
   },
   "file_extension": ".py",
   "mimetype": "text/x-python",
   "name": "python",
   "nbconvert_exporter": "python",
   "pygments_lexer": "ipython3",
   "version": "3.11.2"
  }
 },
 "nbformat": 4,
 "nbformat_minor": 5
}
